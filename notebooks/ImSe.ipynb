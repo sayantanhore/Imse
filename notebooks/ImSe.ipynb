{
 "metadata": {
  "name": "ImSe"
 },
 "nbformat": 3,
 "nbformat_minor": 0,
 "worksheets": [
  {
   "cells": [
    {
     "cell_type": "heading",
     "level": 1,
     "metadata": {},
     "source": "This is a general purpose <u><span style = \"color: #0066cc;\">ImSe</span></u> notebook"
    },
    {
     "cell_type": "code",
     "collapsed": true,
     "input": "# Importing necessary packages\n\nimport os\nimport numpy\nimport scipy\nimport cv\n\nfrom scipy import spatial",
     "language": "python",
     "metadata": {},
     "outputs": [],
     "prompt_number": 3
    },
    {
     "cell_type": "heading",
     "level": 2,
     "metadata": {},
     "source": "Changing the path to the Data directory"
    },
    {
     "cell_type": "code",
     "collapsed": false,
     "input": "home = os.path.expanduser(\"~\")\ndata_path = home + \"/code/python/Imse/Imse/Intelligence/Data/\"\nos.chdir(data_path)",
     "language": "python",
     "metadata": {},
     "outputs": [],
     "prompt_number": 12
    },
    {
     "cell_type": "code",
     "collapsed": false,
     "input": "pwd",
     "language": "python",
     "metadata": {},
     "outputs": [
      {
       "output_type": "pyout",
       "prompt_number": 2,
       "text": "u'/home/fs/hore/code/python/Imse/Imse/Intelligence/Data'"
      }
     ],
     "prompt_number": 2
    },
    {
     "cell_type": "heading",
     "level": 2,
     "metadata": {},
     "source": "Creating files containing ht, eh and cl features"
    },
    {
     "cell_type": "code",
     "collapsed": true,
     "input": "# Declare some constants\n\nNO_OF_IMAGES = 25000\nNO_OF_BINS = 8",
     "language": "python",
     "metadata": {},
     "outputs": [],
     "prompt_number": 4
    },
    {
     "cell_type": "code",
     "collapsed": false,
     "input": "# Import all data files for the first 25k ht_descriptor feature set and save in a single file\n\nht_data1 = numpy.loadtxt(\"/home/fs/hore/code/python/Imse/Imse/Intelligence/management/commands/ht_descriptors/ht1.txt\")\nht_data2 = numpy.loadtxt(\"/home/fs/hore/code/python/Imse/Imse/Intelligence/management/commands/ht_descriptors/ht2.txt\")\nht_data3 = numpy.loadtxt(\"/home/fs/hore/code/python/Imse/Imse/Intelligence/management/commands/ht_descriptors/ht3.txt\")\nht_data3 = ht_data3[:5000, :]\n\n\nht_data = numpy.concatenate((ht_data1, ht_data2), axis = 0)\nht_data = numpy.concatenate((ht_data, ht_data3), axis = 0)\nprint ht_data.shape\n\nnumpy.savetxt(\"ht\" + str(NO_OF_IMAGES) + \".txt\", eh_data, fmt='%1.7f')",
     "language": "python",
     "metadata": {},
     "outputs": [
      {
       "output_type": "stream",
       "stream": "stdout",
       "text": "(25000, 43)\n"
      }
     ],
     "prompt_number": 6
    },
    {
     "cell_type": "code",
     "collapsed": false,
     "input": "# Import all data files for the first 25k eh_descriptor feature set and save in a single file\n\neh_data1 = numpy.loadtxt(\"/home/fs/hore/code/python/Imse/Imse/Intelligence/management/commands/eh_descriptors/eh1.txt\")\neh_data2 = numpy.loadtxt(\"/home/fs/hore/code/python/Imse/Imse/Intelligence/management/commands/eh_descriptors/eh2.txt\")\neh_data3 = numpy.loadtxt(\"/home/fs/hore/code/python/Imse/Imse/Intelligence/management/commands/eh_descriptors/eh3.txt\")\neh_data3 = eh_data3[:5000, :]\n\n\neh_data = numpy.concatenate((eh_data1, eh_data2), axis = 0)\neh_data = numpy.concatenate((eh_data, eh_data3), axis = 0)\nprint eh_data.shape\n\nnumpy.savetxt(\"eh\" + str(NO_OF_IMAGES) + \".txt\", eh_data, fmt='%1.7f')",
     "language": "python",
     "metadata": {},
     "outputs": [
      {
       "output_type": "stream",
       "stream": "stdout",
       "text": "(25000, 150)\n"
      }
     ],
     "prompt_number": 5
    },
    {
     "cell_type": "code",
     "collapsed": true,
     "input": "# Function to Extract RGB - histogram from a given image\n\ndef rgb_histogram(src):\n        B_plane = cv.CreateMat(src.rows, src.cols, cv.CV_8UC1)\n        G_plane = cv.CreateMat(src.rows, src.cols, cv.CV_8UC1)\n        R_plane = cv.CreateMat(src.rows, src.cols, cv.CV_8UC1)   \n        cv.Split(src, B_plane, G_plane, R_plane, None)\n        planes = [B_plane, G_plane, R_plane]\n        B_bins = NO_OF_BINS\n        G_bins = NO_OF_BINS\n        R_bins = NO_OF_BINS\n        bins = [B_bins, G_bins, R_bins]\n        B_ranges = [0, 225]\n        G_ranges = [0, 225]\n        R_ranges = [0, 225]\n        ranges = [B_ranges, G_ranges, R_ranges]\n        hist = cv.CreateHist(bins, cv.CV_HIST_ARRAY, ranges, 1)\n        cv.CalcHist([cv.GetImage(i) for i in planes], hist)\n        cv.NormalizeHist(hist, 1)\n        return hist",
     "language": "python",
     "metadata": {},
     "outputs": [],
     "prompt_number": 2
    },
    {
     "cell_type": "code",
     "collapsed": false,
     "input": "# Create cl_descriptor file for the first 25k images\n\nfile_images = open(\"imageset\" + str(NO_OF_IMAGES) + \".nm\", \"w\")\n\nfor i in range(NO_OF_IMAGES):\n    image_filename = \"im\" + str(i+1) + \".jpg\\n\"\n    file_images.write(image_filename)\n    \nfile_images.close()\n\n\ncl_data = os.path.abspath(\"/home/fs/hore/code/python/Imse/Imse/Intelligence/Data/imageset\" + str(NO_OF_IMAGES) + \".nm\")\nimage_names = [line.strip() for line in open(cl_data).readlines()]\n\nhists_cl = []\nhists_cl_values = numpy.zeros((NO_OF_IMAGES, NO_OF_BINS**3))\n\nfor image in range(NO_OF_IMAGES):\n    #print image\n    hist = rgb_histogram(cv.LoadImageM(\"/home/fs/hore/code/python/Imse/Imse/media/\" + image_names[image]))\n    hists_cl.append(hist)\n    hists_cl_values[image, :] = (numpy.array(hist.bins)).reshape(-1)\n    \nnumpy.save(\"cl\" + str(NO_OF_IMAGES), hists_cl_values)",
     "language": "python",
     "metadata": {},
     "outputs": [],
     "prompt_number": 10
    },
    {
     "cell_type": "heading",
     "level": 2,
     "metadata": {},
     "source": "Calculating distances between features (ht, eh and cl) of images"
    },
    {
     "cell_type": "heading",
     "level": 3,
     "metadata": {},
     "source": "<span style = \"color: red;\">Caution: </span>This section and all subsequent sections are strongly recommended to run on cluster computers. Personal computers may not have enough memory and storage to run these programs and may lead to memory fault."
    },
    {
     "cell_type": "code",
     "collapsed": true,
     "input": "# Calculate feature-distance using ht\n\nht_data = numpy.loadtxt(\"/data/Imse/Data/ht\" + str(NO_OF_IMAGES) + \".txt\")\nht_std = numpy.std(ht_data, 0)\nht_normed = numpy.divide(ht_data, ht_std)\n\nht_distances = scipy.spatial.distances.cdist(ht_normed, ht_normed, \"cityblock\") / len(ht_std)\nnumpy.save(\"/data/Imse/Data/ht_distances\" + str(NO_OF_IMAGES), ht_distances)",
     "language": "python",
     "metadata": {},
     "outputs": [],
     "prompt_number": 8
    },
    {
     "cell_type": "code",
     "collapsed": false,
     "input": "# Calculate feature-distance using eh\n\neh_data = numpy.loadtxt(\"/data/Imse/Data/eh\" + str(NO_OF_IMAGES) + \".txt\")\neh_std = numpy.std(eh_data, 0)\n\neh_data[: ,0:84]=eh_data[: ,0:84] * 0.8\neh_data[: ,85:150]=eh_data[: ,85:150] * 1.2\n\neh_distnces = scipy.spatial.distances.cdist(eh_data, eh_data, \"cityblock\") / 5.0 * len(eh_std)\nnumpy.save(\"/data/Imse/Data/eh_distances\" + str(NO_OF_IMAGES), eh_distances)\n    ",
     "language": "python",
     "metadata": {},
     "outputs": [],
     "prompt_number": 9
    },
    {
     "cell_type": "code",
     "collapsed": false,
     "input": "# Calculate feature-distance using cl\n\ncl_data = numpy.load(\"/data/Imse/Data/cl\" + str(NO_OF_IMAGES) + \".npy\")\ncl_std = numpy.std(cl_data, 0)\n\ncl_distances = scipy.spatial.distances.cdist(cl_data, cl_data, \"cityblock\") / len(cl_std)\nnumpy.save(\"/data/Imse/Data/cl_distances\" + str(NO_OF_IMAGES), cl_distances)",
     "language": "python",
     "metadata": {},
     "outputs": [],
     "prompt_number": 11
    },
    {
     "cell_type": "heading",
     "level": 2,
     "metadata": {},
     "source": "Building Self-Organizing-Map with pre-calculated features"
    },
    {
     "cell_type": "code",
     "collapsed": false,
     "input": "# Declaring the Feature\n\nFEATURE = \"ht\"",
     "language": "python",
     "metadata": {},
     "outputs": [],
     "prompt_number": 4
    },
    {
     "cell_type": "code",
     "collapsed": false,
     "input": "# Load approprate feature-distance file\n\n",
     "language": "python",
     "metadata": {},
     "outputs": []
    }
   ],
   "metadata": {}
  }
 ]
}